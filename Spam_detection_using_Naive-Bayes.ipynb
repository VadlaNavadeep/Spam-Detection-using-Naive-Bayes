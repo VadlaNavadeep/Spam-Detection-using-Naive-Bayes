{
 "cells": [
  {
   "cell_type": "code",
   "execution_count": 1,
   "id": "dee972ac-1773-4f18-8666-7967a445d109",
   "metadata": {},
   "outputs": [
    {
     "name": "stdout",
     "output_type": "stream",
     "text": [
      "Accuracy of Spam Classifier: 0.9919282511210762\n",
      "Prediction (1 = Spam, 0 = Not Spam): 1\n"
     ]
    }
   ],
   "source": [
    "# Step 1: Import required libraries\n",
    "from sklearn.model_selection import train_test_split\n",
    "from sklearn.feature_extraction.text import CountVectorizer\n",
    "from sklearn.naive_bayes import MultinomialNB\n",
    "from sklearn.metrics import accuracy_score\n",
    "import pandas as pd\n",
    "\n",
    "# Step 2: Load the dataset\n",
    "# This dataset has two columns: 'label' (spam/ham), 'message' (email content)\n",
    "df = pd.read_csv('https://raw.githubusercontent.com/justmarkham/pycon-2016-tutorial/master/data/sms.tsv', \n",
    "                 sep='\\t', header=None, names=['label', 'message'])\n",
    "\n",
    "# Step 3: Convert labels to 0 and 1\n",
    "df['label'] = df['label'].map({'ham': 0, 'spam': 1})\n",
    "\n",
    "# Step 4: Split the data\n",
    "X_train, X_test, y_train, y_test = train_test_split(df['message'], df['label'], test_size=0.2, random_state=42)\n",
    "\n",
    "# Step 5: Convert text to numbers using CountVectorizer (Bag of Words)\n",
    "vectorizer = CountVectorizer()\n",
    "X_train_vec = vectorizer.fit_transform(X_train)  # Learn vocab from training data\n",
    "X_test_vec = vectorizer.transform(X_test)        # Transform test data using same vocab\n",
    "\n",
    "# Step 6: Train the Naive Bayes model\n",
    "model = MultinomialNB()\n",
    "model.fit(X_train_vec, y_train)\n",
    "\n",
    "# Step 7: Predict on test data\n",
    "y_pred = model.predict(X_test_vec)\n",
    "\n",
    "# Step 8: Check Accuracy\n",
    "acc = accuracy_score(y_test, y_pred)\n",
    "print(\"Accuracy of Spam Classifier:\", acc)\n",
    "\n",
    "# Step 9: Test with your own message\n",
    "sample = [\"Win ₹10,000 cash now! Click here to claim.\"]\n",
    "sample_vec = vectorizer.transform(sample)\n",
    "print(\"Prediction (1 = Spam, 0 = Not Spam):\", model.predict(sample_vec)[0])\n",
    "\n"
   ]
  }
 ],
 "metadata": {
  "kernelspec": {
   "display_name": "Python 3 (ipykernel)",
   "language": "python",
   "name": "python3"
  },
  "language_info": {
   "codemirror_mode": {
    "name": "ipython",
    "version": 3
   },
   "file_extension": ".py",
   "mimetype": "text/x-python",
   "name": "python",
   "nbconvert_exporter": "python",
   "pygments_lexer": "ipython3",
   "version": "3.12.4"
  }
 },
 "nbformat": 4,
 "nbformat_minor": 5
}
